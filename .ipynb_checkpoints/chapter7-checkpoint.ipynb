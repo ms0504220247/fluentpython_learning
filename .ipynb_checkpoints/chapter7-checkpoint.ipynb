{
 "cells": [
  {
   "cell_type": "code",
   "execution_count": 1,
   "id": "f03085c3",
   "metadata": {},
   "outputs": [
    {
     "ename": "NameError",
     "evalue": "name 'inner' is not defined",
     "output_type": "error",
     "traceback": [
      "\u001b[1;31m---------------------------------------------------------------------------\u001b[0m",
      "\u001b[1;31mNameError\u001b[0m                                 Traceback (most recent call last)",
      "\u001b[1;32mC:\\Users\\MS0504~1\\AppData\\Local\\Temp/ipykernel_4860/707921926.py\u001b[0m in \u001b[0;36m<module>\u001b[1;34m\u001b[0m\n\u001b[0;32m      5\u001b[0m \u001b[1;33m\u001b[0m\u001b[0m\n\u001b[0;32m      6\u001b[0m \u001b[1;33m@\u001b[0m\u001b[0mdeco\u001b[0m\u001b[1;33m\u001b[0m\u001b[1;33m\u001b[0m\u001b[0m\n\u001b[1;32m----> 7\u001b[1;33m \u001b[1;32mdef\u001b[0m \u001b[0mtarget\u001b[0m\u001b[1;33m(\u001b[0m\u001b[1;33m)\u001b[0m\u001b[1;33m:\u001b[0m \u001b[1;31m#2\u001b[0m\u001b[1;33m\u001b[0m\u001b[1;33m\u001b[0m\u001b[0m\n\u001b[0m\u001b[0;32m      8\u001b[0m     \u001b[0mprint\u001b[0m\u001b[1;33m(\u001b[0m\u001b[1;34m'running target()'\u001b[0m\u001b[1;33m)\u001b[0m\u001b[1;33m\u001b[0m\u001b[1;33m\u001b[0m\u001b[0m\n",
      "\u001b[1;32mC:\\Users\\MS0504~1\\AppData\\Local\\Temp/ipykernel_4860/707921926.py\u001b[0m in \u001b[0;36mdeco\u001b[1;34m(func)\u001b[0m\n\u001b[0;32m      2\u001b[0m     \u001b[1;32mdef\u001b[0m \u001b[0mdeco\u001b[0m\u001b[1;33m(\u001b[0m\u001b[0mfunc\u001b[0m\u001b[1;33m)\u001b[0m\u001b[1;33m:\u001b[0m\u001b[1;33m\u001b[0m\u001b[1;33m\u001b[0m\u001b[0m\n\u001b[0;32m      3\u001b[0m         \u001b[0mprint\u001b[0m\u001b[1;33m(\u001b[0m\u001b[1;34m'running inner()'\u001b[0m\u001b[1;33m)\u001b[0m\u001b[1;33m\u001b[0m\u001b[1;33m\u001b[0m\u001b[0m\n\u001b[1;32m----> 4\u001b[1;33m     \u001b[1;32mreturn\u001b[0m \u001b[0minner\u001b[0m \u001b[1;31m#1\u001b[0m\u001b[1;33m\u001b[0m\u001b[1;33m\u001b[0m\u001b[0m\n\u001b[0m\u001b[0;32m      5\u001b[0m \u001b[1;33m\u001b[0m\u001b[0m\n\u001b[0;32m      6\u001b[0m \u001b[1;33m@\u001b[0m\u001b[0mdeco\u001b[0m\u001b[1;33m\u001b[0m\u001b[1;33m\u001b[0m\u001b[0m\n",
      "\u001b[1;31mNameError\u001b[0m: name 'inner' is not defined"
     ]
    }
   ],
   "source": [
    "def deco(func):\n",
    "    def deco(func):\n",
    "        print('running inner()')\n",
    "    return inner #1\n",
    " \n",
    "@deco\n",
    "def target(): #2\n",
    "    print('running target()')"
   ]
  },
  {
   "cell_type": "code",
   "execution_count": 2,
   "id": "88a5dd8a",
   "metadata": {},
   "outputs": [],
   "source": [
    "def deco(func):\n",
    "    def inner():\n",
    "        print('running inner()')\n",
    "    return inner #1\n",
    " \n",
    "@deco\n",
    "def target(): #2\n",
    "    print('running target()')"
   ]
  },
  {
   "cell_type": "code",
   "execution_count": 3,
   "id": "412df9ac",
   "metadata": {},
   "outputs": [
    {
     "name": "stdout",
     "output_type": "stream",
     "text": [
      "running inner()\n"
     ]
    }
   ],
   "source": [
    "target()"
   ]
  },
  {
   "cell_type": "code",
   "execution_count": 4,
   "id": "b3b2368b",
   "metadata": {},
   "outputs": [
    {
     "data": {
      "text/plain": [
       "<function __main__.deco.<locals>.inner()>"
      ]
     },
     "execution_count": 4,
     "metadata": {},
     "output_type": "execute_result"
    }
   ],
   "source": [
    "target"
   ]
  },
  {
   "cell_type": "code",
   "execution_count": 5,
   "id": "64f1fd8c",
   "metadata": {},
   "outputs": [
    {
     "name": "stdout",
     "output_type": "stream",
     "text": [
      "running register(<function f1 at 0x000001F59A3DF1F0>)\n",
      "running register(<function f2 at 0x000001F59A3DF430>)\n",
      "running main()\n",
      "registry -> [<function f1 at 0x000001F59A3DF1F0>, <function f2 at 0x000001F59A3DF430>]\n",
      "running f1()\n",
      "running f2()\n",
      "running f3()\n"
     ]
    }
   ],
   "source": [
    "# BEGIN REGISTRATION\n",
    "\n",
    "registry = []  # <1>\n",
    "\n",
    "def register(func):  # <2>\n",
    "    print('running register(%s)' % func)  # <3>\n",
    "    registry.append(func)  # <4>\n",
    "    return func  # <5>\n",
    "\n",
    "@register  # <6>\n",
    "def f1():\n",
    "    print('running f1()')\n",
    "\n",
    "@register\n",
    "def f2():\n",
    "    print('running f2()')\n",
    "\n",
    "def f3():  # <7>\n",
    "    print('running f3()')\n",
    "\n",
    "def main():  # <8>\n",
    "    print('running main()')\n",
    "    print('registry ->', registry)\n",
    "    f1()\n",
    "    f2()\n",
    "    f3()\n",
    "\n",
    "if __name__=='__main__':\n",
    "    main()  # <9>\n",
    "\n",
    "# END REGISTRATION"
   ]
  },
  {
   "cell_type": "code",
   "execution_count": 6,
   "id": "1aeaab48",
   "metadata": {},
   "outputs": [
    {
     "name": "stdout",
     "output_type": "stream",
     "text": [
      "running register(<function f1 at 0x000001F598D1A820>)\n",
      "running register(<function f2 at 0x000001F59A3DFC10>)\n"
     ]
    }
   ],
   "source": [
    "import registration"
   ]
  },
  {
   "cell_type": "code",
   "execution_count": 7,
   "id": "3511e3c4",
   "metadata": {},
   "outputs": [
    {
     "data": {
      "text/plain": [
       "[<function registration.f1()>, <function registration.f2()>]"
      ]
     },
     "execution_count": 7,
     "metadata": {},
     "output_type": "execute_result"
    }
   ],
   "source": [
    "registration.registry"
   ]
  },
  {
   "cell_type": "code",
   "execution_count": 8,
   "id": "573b13c4",
   "metadata": {},
   "outputs": [],
   "source": [
    "def f1(a):\n",
    "    print(a)\n",
    "    print(b)\n",
    "\n"
   ]
  },
  {
   "cell_type": "code",
   "execution_count": 9,
   "id": "b1b09b0b",
   "metadata": {},
   "outputs": [
    {
     "name": "stdout",
     "output_type": "stream",
     "text": [
      "3\n"
     ]
    },
    {
     "ename": "NameError",
     "evalue": "name 'b' is not defined",
     "output_type": "error",
     "traceback": [
      "\u001b[1;31m---------------------------------------------------------------------------\u001b[0m",
      "\u001b[1;31mNameError\u001b[0m                                 Traceback (most recent call last)",
      "\u001b[1;32mC:\\Users\\MS0504~1\\AppData\\Local\\Temp/ipykernel_4860/1677999450.py\u001b[0m in \u001b[0;36m<module>\u001b[1;34m\u001b[0m\n\u001b[1;32m----> 1\u001b[1;33m \u001b[0mf1\u001b[0m\u001b[1;33m(\u001b[0m\u001b[1;36m3\u001b[0m\u001b[1;33m)\u001b[0m\u001b[1;33m\u001b[0m\u001b[1;33m\u001b[0m\u001b[0m\n\u001b[0m",
      "\u001b[1;32mC:\\Users\\MS0504~1\\AppData\\Local\\Temp/ipykernel_4860/1005782759.py\u001b[0m in \u001b[0;36mf1\u001b[1;34m(a)\u001b[0m\n\u001b[0;32m      1\u001b[0m \u001b[1;32mdef\u001b[0m \u001b[0mf1\u001b[0m\u001b[1;33m(\u001b[0m\u001b[0ma\u001b[0m\u001b[1;33m)\u001b[0m\u001b[1;33m:\u001b[0m\u001b[1;33m\u001b[0m\u001b[1;33m\u001b[0m\u001b[0m\n\u001b[0;32m      2\u001b[0m     \u001b[0mprint\u001b[0m\u001b[1;33m(\u001b[0m\u001b[0ma\u001b[0m\u001b[1;33m)\u001b[0m\u001b[1;33m\u001b[0m\u001b[1;33m\u001b[0m\u001b[0m\n\u001b[1;32m----> 3\u001b[1;33m     \u001b[0mprint\u001b[0m\u001b[1;33m(\u001b[0m\u001b[0mb\u001b[0m\u001b[1;33m)\u001b[0m\u001b[1;33m\u001b[0m\u001b[1;33m\u001b[0m\u001b[0m\n\u001b[0m\u001b[0;32m      4\u001b[0m \u001b[1;33m\u001b[0m\u001b[0m\n",
      "\u001b[1;31mNameError\u001b[0m: name 'b' is not defined"
     ]
    }
   ],
   "source": [
    "f1(3)"
   ]
  },
  {
   "cell_type": "code",
   "execution_count": 10,
   "id": "c0ed80ae",
   "metadata": {},
   "outputs": [],
   "source": [
    "b = 6"
   ]
  },
  {
   "cell_type": "code",
   "execution_count": 11,
   "id": "60c0715a",
   "metadata": {},
   "outputs": [
    {
     "name": "stdout",
     "output_type": "stream",
     "text": [
      "3\n",
      "6\n"
     ]
    }
   ],
   "source": [
    "f1(3)"
   ]
  },
  {
   "cell_type": "code",
   "execution_count": 12,
   "id": "501797a0",
   "metadata": {},
   "outputs": [],
   "source": [
    "def f2(a):\n",
    "    print(a)\n",
    "    print(b)\n",
    "    b = 9"
   ]
  },
  {
   "cell_type": "code",
   "execution_count": 13,
   "id": "1648d894",
   "metadata": {},
   "outputs": [
    {
     "name": "stdout",
     "output_type": "stream",
     "text": [
      "3\n"
     ]
    },
    {
     "ename": "UnboundLocalError",
     "evalue": "local variable 'b' referenced before assignment",
     "output_type": "error",
     "traceback": [
      "\u001b[1;31m---------------------------------------------------------------------------\u001b[0m",
      "\u001b[1;31mUnboundLocalError\u001b[0m                         Traceback (most recent call last)",
      "\u001b[1;32mC:\\Users\\MS0504~1\\AppData\\Local\\Temp/ipykernel_4860/3518124808.py\u001b[0m in \u001b[0;36m<module>\u001b[1;34m\u001b[0m\n\u001b[1;32m----> 1\u001b[1;33m \u001b[0mf2\u001b[0m\u001b[1;33m(\u001b[0m\u001b[1;36m3\u001b[0m\u001b[1;33m)\u001b[0m\u001b[1;33m\u001b[0m\u001b[1;33m\u001b[0m\u001b[0m\n\u001b[0m",
      "\u001b[1;32mC:\\Users\\MS0504~1\\AppData\\Local\\Temp/ipykernel_4860/1315324817.py\u001b[0m in \u001b[0;36mf2\u001b[1;34m(a)\u001b[0m\n\u001b[0;32m      1\u001b[0m \u001b[1;32mdef\u001b[0m \u001b[0mf2\u001b[0m\u001b[1;33m(\u001b[0m\u001b[0ma\u001b[0m\u001b[1;33m)\u001b[0m\u001b[1;33m:\u001b[0m\u001b[1;33m\u001b[0m\u001b[1;33m\u001b[0m\u001b[0m\n\u001b[0;32m      2\u001b[0m     \u001b[0mprint\u001b[0m\u001b[1;33m(\u001b[0m\u001b[0ma\u001b[0m\u001b[1;33m)\u001b[0m\u001b[1;33m\u001b[0m\u001b[1;33m\u001b[0m\u001b[0m\n\u001b[1;32m----> 3\u001b[1;33m     \u001b[0mprint\u001b[0m\u001b[1;33m(\u001b[0m\u001b[0mb\u001b[0m\u001b[1;33m)\u001b[0m\u001b[1;33m\u001b[0m\u001b[1;33m\u001b[0m\u001b[0m\n\u001b[0m\u001b[0;32m      4\u001b[0m     \u001b[0mb\u001b[0m \u001b[1;33m=\u001b[0m \u001b[1;36m9\u001b[0m\u001b[1;33m\u001b[0m\u001b[1;33m\u001b[0m\u001b[0m\n",
      "\u001b[1;31mUnboundLocalError\u001b[0m: local variable 'b' referenced before assignment"
     ]
    }
   ],
   "source": [
    "f2(3)\n"
   ]
  },
  {
   "cell_type": "code",
   "execution_count": 14,
   "id": "f619b14a",
   "metadata": {},
   "outputs": [],
   "source": [
    "from dis import dis\n"
   ]
  },
  {
   "cell_type": "code",
   "execution_count": 15,
   "id": "48e5ab06",
   "metadata": {},
   "outputs": [
    {
     "name": "stdout",
     "output_type": "stream",
     "text": [
      "  2           0 LOAD_GLOBAL              0 (print)\n",
      "              2 LOAD_FAST                0 (a)\n",
      "              4 CALL_FUNCTION            1\n",
      "              6 POP_TOP\n",
      "\n",
      "  3           8 LOAD_GLOBAL              0 (print)\n",
      "             10 LOAD_GLOBAL              1 (b)\n",
      "             12 CALL_FUNCTION            1\n",
      "             14 POP_TOP\n",
      "             16 LOAD_CONST               0 (None)\n",
      "             18 RETURN_VALUE\n"
     ]
    }
   ],
   "source": [
    "dis(f1)"
   ]
  },
  {
   "cell_type": "code",
   "execution_count": 16,
   "id": "c5eea442",
   "metadata": {},
   "outputs": [
    {
     "name": "stdout",
     "output_type": "stream",
     "text": [
      "  2           0 LOAD_GLOBAL              0 (print)\n",
      "              2 LOAD_FAST                0 (a)\n",
      "              4 CALL_FUNCTION            1\n",
      "              6 POP_TOP\n",
      "\n",
      "  3           8 LOAD_GLOBAL              0 (print)\n",
      "             10 LOAD_FAST                1 (b)\n",
      "             12 CALL_FUNCTION            1\n",
      "             14 POP_TOP\n",
      "\n",
      "  4          16 LOAD_CONST               1 (9)\n",
      "             18 STORE_FAST               1 (b)\n",
      "             20 LOAD_CONST               0 (None)\n",
      "             22 RETURN_VALUE\n"
     ]
    }
   ],
   "source": [
    "dis(f2)"
   ]
  },
  {
   "cell_type": "code",
   "execution_count": null,
   "id": "130c1638",
   "metadata": {},
   "outputs": [],
   "source": []
  }
 ],
 "metadata": {
  "kernelspec": {
   "display_name": "Python 3 (ipykernel)",
   "language": "python",
   "name": "python3"
  },
  "language_info": {
   "codemirror_mode": {
    "name": "ipython",
    "version": 3
   },
   "file_extension": ".py",
   "mimetype": "text/x-python",
   "name": "python",
   "nbconvert_exporter": "python",
   "pygments_lexer": "ipython3",
   "version": "3.9.7"
  }
 },
 "nbformat": 4,
 "nbformat_minor": 5
}
